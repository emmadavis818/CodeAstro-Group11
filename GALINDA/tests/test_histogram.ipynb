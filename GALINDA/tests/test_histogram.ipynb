{
 "cells": [
  {
   "cell_type": "code",
   "execution_count": null,
   "metadata": {},
   "outputs": [],
   "source": [
    "import matplotlib.pyplot as plt\n",
    "import numpy as np\n",
    "import matplotlib.animation as animation\n",
    "import glob\n",
    "import h5py\n",
    "from matplotlib import rc\n",
    "rc(\"animation\", html = \"html5\")\n",
    "\n",
    "import GALINDA"
   ]
  },
  {
   "cell_type": "code",
   "execution_count": 11,
   "metadata": {},
   "outputs": [
    {
     "ename": "AttributeError",
     "evalue": "module 'GALINDA' has no attribute 'Bubble'",
     "output_type": "error",
     "traceback": [
      "\u001b[0;31m---------------------------------------------------------------------------\u001b[0m",
      "\u001b[0;31mAttributeError\u001b[0m                            Traceback (most recent call last)",
      "Cell \u001b[0;32mIn[11], line 1\u001b[0m\n\u001b[0;32m----> 1\u001b[0m gal \u001b[38;5;241m=\u001b[39m \u001b[43mGALINDA\u001b[49m\u001b[38;5;241;43m.\u001b[39;49m\u001b[43mBubble\u001b[49m(\u001b[38;5;124m\"\u001b[39m\u001b[38;5;124manimation_data/\u001b[39m\u001b[38;5;124m\"\u001b[39m, \u001b[38;5;124m\"\u001b[39m\u001b[38;5;124mm11h_star_coordinates\u001b[39m\u001b[38;5;124m\"\u001b[39m)\n\u001b[1;32m      3\u001b[0m gal\u001b[38;5;241m.\u001b[39mhistogram()\n\u001b[1;32m      5\u001b[0m gal\u001b[38;5;241m.\u001b[39mto_plot\n",
      "\u001b[0;31mAttributeError\u001b[0m: module 'GALINDA' has no attribute 'Bubble'"
     ]
    }
   ],
   "source": [
    "gal = GALINDA.Bubble(\"animation_data/\", \"m11h_star_coordinates\")\n",
    "\n",
    "gal.histogram()\n",
    "\n",
    "gal.to_plot\n",
    "gal.binX \n",
    "gal.binY"
   ]
  },
  {
   "cell_type": "code",
   "execution_count": null,
   "metadata": {},
   "outputs": [],
   "source": []
  }
 ],
 "metadata": {
  "kernelspec": {
   "display_name": "codeastro",
   "language": "python",
   "name": "python3"
  },
  "language_info": {
   "codemirror_mode": {
    "name": "ipython",
    "version": 3
   },
   "file_extension": ".py",
   "mimetype": "text/x-python",
   "name": "python",
   "nbconvert_exporter": "python",
   "pygments_lexer": "ipython3",
   "version": "3.10.18"
  }
 },
 "nbformat": 4,
 "nbformat_minor": 2
}
