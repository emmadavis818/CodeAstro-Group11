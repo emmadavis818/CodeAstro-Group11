{
 "cells": [
  {
   "cell_type": "code",
   "execution_count": 3,
   "id": "ce4f6138",
   "metadata": {},
   "outputs": [],
   "source": [
    "import matplotlib.pyplot as plt\n",
    "import numpy as np\n",
    "import matplotlib.animation as animation\n",
    "import glob\n",
    "import h5py\n",
    "from matplotlib import rc\n",
    "rc(\"animation\", html = \"html5\")\n",
    "from GALINDA import GALINDA"
   ]
  },
  {
   "cell_type": "code",
   "execution_count": 5,
   "id": "9a6cd75f",
   "metadata": {},
   "outputs": [],
   "source": [
    "gal = GALINDA.GALINDA(\"animation_data/\", \"m11h_star_coordinates\")"
   ]
  },
  {
   "cell_type": "code",
   "execution_count": 11,
   "id": "27f639e4",
   "metadata": {},
   "outputs": [
    {
     "name": "stdout",
     "output_type": "stream",
     "text": [
      "animation_data/*\n",
      "['animation_data/star_coord_586.hdf5', 'animation_data/star_coord_590.hdf5', 'animation_data/star_coord_591.hdf5', 'animation_data/star_coord_600.hdf5', 'animation_data/star_coord_587.hdf5', 'animation_data/star_coord_596.hdf5', 'animation_data/star_coord_597.hdf5', 'animation_data/star_coord_581.hdf5', 'animation_data/star_coord_594.hdf5', 'animation_data/star_coord_582.hdf5', 'animation_data/star_coord_598.hdf5', 'animation_data/star_coord_599.hdf5', 'animation_data/star_coord_583.hdf5', 'animation_data/star_coord_595.hdf5', 'animation_data/star_coord_588.hdf5', 'animation_data/star_coord_592.hdf5', 'animation_data/star_coord_584.hdf5', 'animation_data/star_coord_585.hdf5', 'animation_data/star_coord_593.hdf5', 'animation_data/star_coord_589.hdf5']\n",
      "m11h_star_coordinates\n",
      "[0, 1]\n"
     ]
    }
   ],
   "source": [
    "print(gal.path)\n",
    "print(gal.fnames)\n",
    "print(gal.key)\n",
    "print(gal.ind)"
   ]
  }
 ],
 "metadata": {
  "kernelspec": {
   "display_name": "codeastro",
   "language": "python",
   "name": "python3"
  },
  "language_info": {
   "codemirror_mode": {
    "name": "ipython",
    "version": 3
   },
   "file_extension": ".py",
   "mimetype": "text/x-python",
   "name": "python",
   "nbconvert_exporter": "python",
   "pygments_lexer": "ipython3",
   "version": "3.10.18"
  }
 },
 "nbformat": 4,
 "nbformat_minor": 5
}
