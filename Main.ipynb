{
 "cells": [
  {
   "cell_type": "markdown",
   "id": "94271cd3",
   "metadata": {},
   "source": [
    "# Imports "
   ]
  },
  {
   "cell_type": "code",
   "execution_count": null,
   "id": "157cb39b",
   "metadata": {},
   "outputs": [],
   "source": [
    "import functools\n",
    "\n",
    "import matplotlip as plt\n",
    "import numpy as np\n",
    "import matplotlib.animation as anim"
   ]
  },
  {
   "cell_type": "code",
   "execution_count": null,
   "id": "b5795439",
   "metadata": {},
   "outputs": [],
   "source": []
  }
 ],
 "metadata": {
  "kernelspec": {
   "display_name": "base",
   "language": "python",
   "name": "python3"
  },
  "language_info": {
   "name": "python",
   "version": "3.13.5"
  }
 },
 "nbformat": 4,
 "nbformat_minor": 5
}
