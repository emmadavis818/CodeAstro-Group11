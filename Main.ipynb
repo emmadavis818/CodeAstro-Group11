{
 "cells": [
  {
   "cell_type": "markdown",
   "id": "94271cd3",
   "metadata": {},
   "source": [
    "# Imports "
   ]
  },
  {
   "cell_type": "code",
   "execution_count": 9,
   "id": "157cb39b",
   "metadata": {},
   "outputs": [],
   "source": [
    "import functools\n",
    "\n",
    "import matplotlib.pyplot as plt\n",
    "import numpy as np\n",
    "import matplotlib.animation as animation\n",
    "import glob\n",
    "import h5py"
   ]
  },
  {
   "cell_type": "code",
   "execution_count": null,
   "id": "ddb921c8",
   "metadata": {},
   "outputs": [],
   "source": [
    "fig, ax = plt.subplots(figsize = (8,8))\n",
    "\n",
    "#Create 2d Histogram\n",
    "data,x,y = np.histogram2d(X,Y, bins = 15)\n",
    "\n",
    "#Define animation. \n",
    "def animate(i) :\n",
    "    data,x,y = np.histogram2d(X,Y, bins = 15)\n",
    "    im.set_data(data)\n",
    "\n",
    "ani = animation.FuncAnimation(fig, animate, np.arange(0,1000),\n",
    "                          interval = 100, blit = False)\n",
    "\n",
    "plt.show()"
   ]
  },
  {
   "cell_type": "code",
   "execution_count": null,
   "id": "3cd9e959",
   "metadata": {},
   "outputs": [],
   "source": [
    "class GALINDA(object):\n",
    "    \"\"\"\n",
    "    Add docstring\n",
    "    \"\"\"\n",
    "\n",
    "    def __init__(self,path,key,ind = [0,1]):\n",
    "        \"\"\"\n",
    "        Doc\n",
    "        \"\"\"\n",
    "        self.path = path\n",
    "        if \"*\" not in self.path:\n",
    "            self.path += \"*\"\n",
    "            \n",
    "        self.fnames = glob.glob(path + \"*\")\n",
    "        self.key = key\n",
    "        self.ind = ind\n",
    "        \n",
    "    def histogram(self,x,y,bins = 500):\n",
    "        \"\"\"\n",
    "        Doc\n",
    "        \"\"\"\n",
    "        \n",
    "    def animate(self,i):\n",
    "        f = h5py.File(self.fnames[i])\n",
    "        data = np.array(f[self.key])\n",
    "        x,y = data[self.ind[:,0]], data[self.ind[:,1]]\n",
    "        \n",
    "        self.histogram(x,y,np.sqrt(len(x))/2)\n",
    "        "
   ]
  },
  {
   "cell_type": "code",
   "execution_count": 8,
   "id": "9a7e1143",
   "metadata": {},
   "outputs": [
    {
     "data": {
      "text/plain": [
       "True"
      ]
     },
     "execution_count": 8,
     "metadata": {},
     "output_type": "execute_result"
    }
   ],
   "source": [
    "glob.glob(\"animation_data/*.hdf5\")\n",
    "\"*\" in \"animation_data/*.hdf5\""
   ]
  },
  {
   "cell_type": "code",
   "execution_count": 10,
   "id": "7b00c428",
   "metadata": {},
   "outputs": [],
   "source": [
    "f = h5py.File(\"animation_data/star_coord_581.hdf5\", \"r\")"
   ]
  },
  {
   "cell_type": "code",
   "execution_count": 17,
   "id": "d4161b01",
   "metadata": {},
   "outputs": [
    {
     "data": {
      "text/plain": [
       "array([1.25135101, 1.26004507, 1.23061369, ..., 4.40513692, 4.44712767,\n",
       "       4.46653473], shape=(706582,))"
      ]
     },
     "execution_count": 17,
     "metadata": {},
     "output_type": "execute_result"
    }
   ],
   "source": [
    "np.array(f[\"m11h_star_coordinates\"])[:,0]"
   ]
  },
  {
   "cell_type": "code",
   "execution_count": 15,
   "id": "adcb8f40",
   "metadata": {},
   "outputs": [
    {
     "data": {
      "text/plain": [
       "np.float64(836.6600265340755)"
      ]
     },
     "execution_count": 15,
     "metadata": {},
     "output_type": "execute_result"
    }
   ],
   "source": [
    "np.sqrt(700000)"
   ]
  },
  {
   "cell_type": "code",
   "execution_count": null,
   "id": "b9c54a50",
   "metadata": {},
   "outputs": [],
   "source": []
  }
 ],
 "metadata": {
  "kernelspec": {
   "display_name": "codeastro",
   "language": "python",
   "name": "python3"
  },
  "language_info": {
   "codemirror_mode": {
    "name": "ipython",
    "version": 3
   },
   "file_extension": ".py",
   "mimetype": "text/x-python",
   "name": "python",
   "nbconvert_exporter": "python",
   "pygments_lexer": "ipython3",
   "version": "3.13.5"
  }
 },
 "nbformat": 4,
 "nbformat_minor": 5
}
