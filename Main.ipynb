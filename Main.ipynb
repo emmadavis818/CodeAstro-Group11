{
 "cells": [
  {
   "cell_type": "markdown",
   "id": "94271cd3",
   "metadata": {},
   "source": [
    "# Imports "
   ]
  },
  {
   "cell_type": "code",
   "execution_count": null,
   "id": "157cb39b",
   "metadata": {},
   "outputs": [],
   "source": [
    "import functools\n",
    "\n",
    "import matplotlib.pyplot as plt\n",
    "import numpy as np\n",
    "import matplotlib.animation as animation"
   ]
  },
  {
   "cell_type": "code",
   "execution_count": null,
   "id": "ddb921c8",
   "metadata": {},
   "outputs": [],
   "source": [
    "fig, ax = plt.subplots(figsize = (8,8))\n",
    "\n",
    "#Create 2d Histogram\n",
    "data,x,y = np.histogram2d(X,Y, bins = 15)\n",
    "\n",
    "#Smooth with filter\n",
    "im = plt.imshow(data.T, interpolation = 'gaussian', origin = 'lower')\n",
    "\n",
    "#Define animation. \n",
    "def animate(i) :\n",
    "    data,x,y = np.histogram2d(X,Y, bins = 15)\n",
    "    im.set_data(data)\n",
    "\n",
    "ani = animation.FuncAnimation(fig, animate, np.arange(0,1000),\n",
    "                          interval = 100, blit = False)\n",
    "\n",
    "plt.show()"
   ]
  },
  {
   "cell_type": "code",
   "execution_count": null,
   "id": "3cd9e959",
   "metadata": {},
   "outputs": [],
   "source": [
    "class GALINDA(object):\n",
    "    \"\"\"\n",
    "    Add docstring\n",
    "    \"\"\"\n",
    "\n",
    "    def __init__(self,path):\n",
    "        \"\"\"\n",
    "        Doc\n",
    "        \"\"\""
   ]
  }
 ],
 "metadata": {
  "kernelspec": {
   "display_name": "codeastro",
   "language": "python",
   "name": "python3"
  },
  "language_info": {
   "codemirror_mode": {
    "name": "ipython",
    "version": 3
   },
   "file_extension": ".py",
   "mimetype": "text/x-python",
   "name": "python",
   "nbconvert_exporter": "python",
   "pygments_lexer": "ipython3",
   "version": "3.10.18"
  }
 },
 "nbformat": 4,
 "nbformat_minor": 5
}
